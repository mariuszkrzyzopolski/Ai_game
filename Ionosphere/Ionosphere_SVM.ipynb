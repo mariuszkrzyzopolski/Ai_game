{
 "cells": [
  {
   "cell_type": "code",
   "execution_count": 1,
   "id": "57642f1a",
   "metadata": {},
   "outputs": [
    {
     "data": {
      "text/plain": "'\\nAuthors: Mariusz Krzyzopolski s21544 Tomasz Baj s20499\\n'"
     },
     "execution_count": 1,
     "metadata": {},
     "output_type": "execute_result"
    }
   ],
   "source": [
    "\"\"\"\n",
    "Authors: Mariusz Krzyzopolski s21544 Tomasz Baj s20499\n",
    "\"\"\""
   ]
  },
  {
   "cell_type": "code",
   "execution_count": 2,
   "id": "349fb0da",
   "metadata": {},
   "outputs": [],
   "source": [
    "import numpy as np\n",
    "import matplotlib.pyplot as plt\n",
    "from sklearn import svm, metrics\n",
    "import pandas as pd"
   ]
  },
  {
   "cell_type": "code",
   "execution_count": 3,
   "id": "2b5993ed",
   "metadata": {},
   "outputs": [
    {
     "data": {
      "text/plain": "   0   1        2        3        4        5        6        7        8   \\\n0   1   0  0.99539 -0.05889  0.85243  0.02306  0.83398 -0.37708  1.00000   \n1   1   0  1.00000 -0.18829  0.93035 -0.36156 -0.10868 -0.93597  1.00000   \n2   1   0  1.00000 -0.03365  1.00000  0.00485  1.00000 -0.12062  0.88965   \n3   1   0  1.00000 -0.45161  1.00000  1.00000  0.71216 -1.00000  0.00000   \n4   1   0  1.00000 -0.02401  0.94140  0.06531  0.92106 -0.23255  0.77152   \n\n        9   ...       25       26       27       28       29       30  \\\n0  0.03760  ... -0.51171  0.41078 -0.46168  0.21266 -0.34090  0.42267   \n1 -0.04549  ... -0.26569 -0.20468 -0.18401 -0.19040 -0.11593 -0.16626   \n2  0.01198  ... -0.40220  0.58984 -0.22145  0.43100 -0.17365  0.60436   \n3  0.00000  ...  0.90695  0.51613  1.00000  1.00000 -0.20099  0.25682   \n4 -0.16399  ... -0.65158  0.13290 -0.53206  0.02431 -0.62197 -0.05707   \n\n        31       32       33  34  \n0 -0.54487  0.18641 -0.45300   g  \n1 -0.06288 -0.13738 -0.02447   b  \n2 -0.24180  0.56045 -0.38238   g  \n3  1.00000 -0.32382  1.00000   b  \n4 -0.59573 -0.04608 -0.65697   g  \n\n[5 rows x 35 columns]",
      "text/html": "<div>\n<style scoped>\n    .dataframe tbody tr th:only-of-type {\n        vertical-align: middle;\n    }\n\n    .dataframe tbody tr th {\n        vertical-align: top;\n    }\n\n    .dataframe thead th {\n        text-align: right;\n    }\n</style>\n<table border=\"1\" class=\"dataframe\">\n  <thead>\n    <tr style=\"text-align: right;\">\n      <th></th>\n      <th>0</th>\n      <th>1</th>\n      <th>2</th>\n      <th>3</th>\n      <th>4</th>\n      <th>5</th>\n      <th>6</th>\n      <th>7</th>\n      <th>8</th>\n      <th>9</th>\n      <th>...</th>\n      <th>25</th>\n      <th>26</th>\n      <th>27</th>\n      <th>28</th>\n      <th>29</th>\n      <th>30</th>\n      <th>31</th>\n      <th>32</th>\n      <th>33</th>\n      <th>34</th>\n    </tr>\n  </thead>\n  <tbody>\n    <tr>\n      <th>0</th>\n      <td>1</td>\n      <td>0</td>\n      <td>0.99539</td>\n      <td>-0.05889</td>\n      <td>0.85243</td>\n      <td>0.02306</td>\n      <td>0.83398</td>\n      <td>-0.37708</td>\n      <td>1.00000</td>\n      <td>0.03760</td>\n      <td>...</td>\n      <td>-0.51171</td>\n      <td>0.41078</td>\n      <td>-0.46168</td>\n      <td>0.21266</td>\n      <td>-0.34090</td>\n      <td>0.42267</td>\n      <td>-0.54487</td>\n      <td>0.18641</td>\n      <td>-0.45300</td>\n      <td>g</td>\n    </tr>\n    <tr>\n      <th>1</th>\n      <td>1</td>\n      <td>0</td>\n      <td>1.00000</td>\n      <td>-0.18829</td>\n      <td>0.93035</td>\n      <td>-0.36156</td>\n      <td>-0.10868</td>\n      <td>-0.93597</td>\n      <td>1.00000</td>\n      <td>-0.04549</td>\n      <td>...</td>\n      <td>-0.26569</td>\n      <td>-0.20468</td>\n      <td>-0.18401</td>\n      <td>-0.19040</td>\n      <td>-0.11593</td>\n      <td>-0.16626</td>\n      <td>-0.06288</td>\n      <td>-0.13738</td>\n      <td>-0.02447</td>\n      <td>b</td>\n    </tr>\n    <tr>\n      <th>2</th>\n      <td>1</td>\n      <td>0</td>\n      <td>1.00000</td>\n      <td>-0.03365</td>\n      <td>1.00000</td>\n      <td>0.00485</td>\n      <td>1.00000</td>\n      <td>-0.12062</td>\n      <td>0.88965</td>\n      <td>0.01198</td>\n      <td>...</td>\n      <td>-0.40220</td>\n      <td>0.58984</td>\n      <td>-0.22145</td>\n      <td>0.43100</td>\n      <td>-0.17365</td>\n      <td>0.60436</td>\n      <td>-0.24180</td>\n      <td>0.56045</td>\n      <td>-0.38238</td>\n      <td>g</td>\n    </tr>\n    <tr>\n      <th>3</th>\n      <td>1</td>\n      <td>0</td>\n      <td>1.00000</td>\n      <td>-0.45161</td>\n      <td>1.00000</td>\n      <td>1.00000</td>\n      <td>0.71216</td>\n      <td>-1.00000</td>\n      <td>0.00000</td>\n      <td>0.00000</td>\n      <td>...</td>\n      <td>0.90695</td>\n      <td>0.51613</td>\n      <td>1.00000</td>\n      <td>1.00000</td>\n      <td>-0.20099</td>\n      <td>0.25682</td>\n      <td>1.00000</td>\n      <td>-0.32382</td>\n      <td>1.00000</td>\n      <td>b</td>\n    </tr>\n    <tr>\n      <th>4</th>\n      <td>1</td>\n      <td>0</td>\n      <td>1.00000</td>\n      <td>-0.02401</td>\n      <td>0.94140</td>\n      <td>0.06531</td>\n      <td>0.92106</td>\n      <td>-0.23255</td>\n      <td>0.77152</td>\n      <td>-0.16399</td>\n      <td>...</td>\n      <td>-0.65158</td>\n      <td>0.13290</td>\n      <td>-0.53206</td>\n      <td>0.02431</td>\n      <td>-0.62197</td>\n      <td>-0.05707</td>\n      <td>-0.59573</td>\n      <td>-0.04608</td>\n      <td>-0.65697</td>\n      <td>g</td>\n    </tr>\n  </tbody>\n</table>\n<p>5 rows × 35 columns</p>\n</div>"
     },
     "execution_count": 3,
     "metadata": {},
     "output_type": "execute_result"
    }
   ],
   "source": [
    "data = pd.read_csv(\"ionosphere.data\", header=None)\n",
    "data.head()"
   ]
  },
  {
   "cell_type": "code",
   "execution_count": 4,
   "id": "d21adf85",
   "metadata": {},
   "outputs": [],
   "source": [
    "def calkulate_x_y(database: pd.core.frame.DataFrame) -> list:\n",
    "    \"\"\"Function used to map results of complex electromagnetic signals\"\"\"\n",
    "    ret = []\n",
    "    for i in range(len(database)):\n",
    "        arr = list(database.iloc[i])\n",
    "        even = []\n",
    "        odd = []\n",
    "        for i in range(len(arr)):\n",
    "            if i%2:\n",
    "                odd.append(arr[i])\n",
    "            else:\n",
    "                even.append(arr[i])\n",
    "        ret.append([np.sum(even)/len(even), np.sum(odd)/len(odd)])\n",
    "    return ret"
   ]
  },
  {
   "cell_type": "code",
   "execution_count": 5,
   "id": "a6044651",
   "metadata": {},
   "outputs": [],
   "source": [
    "\"\"\" Prepare test and train datasets \"\"\"\n",
    "\n",
    "X_train = data.iloc[0:199, 0:34]\n",
    "y_train = data.iloc[0:199, 34]\n",
    "X_test = data.iloc[200:, 0:34]\n",
    "y_test = data.iloc[200:, 34]"
   ]
  },
  {
   "cell_type": "code",
   "execution_count": 6,
   "id": "1fb792da",
   "metadata": {},
   "outputs": [
    {
     "name": "stdout",
     "output_type": "stream",
     "text": [
      "Accuracy for predicting new Ionosphere data: 0.9801324503311258\n",
      "Accuracy for predicting new Ionosphere data: 0.9801324503311258\n"
     ]
    }
   ],
   "source": [
    "\"\"\"Create classificator, train it and make prediction, with score measured by two differend methods\"\"\"\n",
    "\n",
    "XY = calkulate_x_y(X_test)\n",
    "svc = svm.SVC(kernel='rbf', C=1).fit(X_train, y_train)\n",
    "Z = svc.predict(X_test)\n",
    "\n",
    "\n",
    "print(\"Accuracy for predicting new Ionosphere data:\", metrics.accuracy_score(y_test, Z))\n",
    "print(\"Accuracy for predicting new Ionosphere data:\", svc.score(X_test, y_test))"
   ]
  },
  {
   "cell_type": "code",
   "execution_count": 7,
   "id": "ac4077a4",
   "metadata": {},
   "outputs": [
    {
     "data": {
      "text/plain": "<Figure size 432x288 with 1 Axes>",
      "image/png": "[encoded data removed]"
     },
     "metadata": {
      "needs_background": "light"
     },
     "output_type": "display_data"
    }
   ],
   "source": [
    "\"\"\"Plot results with divide for good and bad readings, coresponding to some sctructure in ionosphere\"\"\"\n",
    "\n",
    "dataplotx = []\n",
    "dataploty = []\n",
    "for x in range(len(XY)):\n",
    "    if Z[x] == 'g':\n",
    "        dataplotx.append(XY[x][0])\n",
    "        dataploty.append(XY[x][1])\n",
    "plt.scatter(dataplotx, dataploty, c='green', marker='v', s=50, label=\"good\")\n",
    "\n",
    "dataplotx = []\n",
    "dataploty = []\n",
    "for x in range(len(XY)):\n",
    "    if Z[x] == 'b':\n",
    "        dataplotx.append(XY[x][0])\n",
    "        dataploty.append(XY[x][1])\n",
    "plt.scatter(dataplotx, dataploty, c='red', marker='x', s=50, label=\"bad\")\n",
    "\n",
    "plt.grid()\n",
    "plt.legend()\n",
    "plt.tight_layout()\n",
    "plt.show()"
   ]
  },
  {
   "cell_type": "code",
   "execution_count": 7,
   "id": "d9257b28",
   "metadata": {},
   "outputs": [],
   "source": []
  }
 ],
 "metadata": {
  "kernelspec": {
   "display_name": "Python 3 (ipykernel)",
   "language": "python",
   "name": "python3"
  },
  "language_info": {
   "codemirror_mode": {
    "name": "ipython",
    "version": 3
   },
   "file_extension": ".py",
   "mimetype": "text/x-python",
   "name": "python",
   "nbconvert_exporter": "python",
   "pygments_lexer": "ipython3",
   "version": "3.10.8"
  }
 },
 "nbformat": 4,
 "nbformat_minor": 5
}