{
 "cells": [
  {
   "cell_type": "code",
   "execution_count": 1,
   "outputs": [
    {
     "data": {
      "text/plain": "'\\nAuthors: Mariusz Krzyzopolski s21544 Tomasz Baj s20499\\n'"
     },
     "execution_count": 1,
     "metadata": {},
     "output_type": "execute_result"
    }
   ],
   "source": [
    "\"\"\"\n",
    "Authors: Mariusz Krzyzopolski s21544 Tomasz Baj s20499\n",
    "\"\"\""
   ],
   "metadata": {
    "collapsed": false,
    "pycharm": {
     "name": "#%%\n"
    }
   }
  },
  {
   "cell_type": "code",
   "execution_count": null,
   "outputs": [],
   "source": [
    "import tensorflow as tf\n",
    "from tensorflow import keras\n",
    "import pandas as pd\n",
    "import os\n",
    "import time"
   ],
   "metadata": {
    "collapsed": false,
    "pycharm": {
     "name": "#%%\n",
     "is_executing": true
    }
   }
  },
  {
   "cell_type": "code",
   "execution_count": null,
   "outputs": [],
   "source": [
    "\"\"\"Checking available GPU with CUDA for training\"\"\"\n",
    "tf.config.list_physical_devices('GPU')\n",
    "print(\"Num GPUs Available: \", len(tf.config.list_physical_devices('GPU')))\n",
    "#os.environ[\"CUDA_VISIBLE_DEVICES\"] = \"-1\""
   ],
   "metadata": {
    "collapsed": false,
    "pycharm": {
     "name": "#%%\n",
     "is_executing": true
    }
   }
  },
  {
   "cell_type": "code",
   "execution_count": 4,
   "outputs": [],
   "source": [
    "\"\"\" Prepare test and train datasets \"\"\"\n",
    "df = pd.read_csv(\"beer_reviews.csv\")\n",
    "df.head()\n",
    "\n",
    "beer_style = df.iloc[:, 7].unique().tolist()\n",
    "beer_style.sort()\n",
    "id_map = {value: idx+1 for idx, value in enumerate(beer_style)}\n",
    "df['beer_style'] = df['beer_style'].map(id_map)\n",
    "\n",
    "df = df[:10000].dropna()\n",
    "\n",
    "X_train = df.iloc[:, [3, 4, 5, 8, 9, 11]].to_numpy()\n",
    "y_train = df.iloc[:, 7].to_numpy().reshape(-1, 1)\n",
    "X_test = df.iloc[:, [3, 4, 5, 8, 9, 11]].to_numpy()\n",
    "y_test = df.iloc[:, 7].to_numpy().reshape(-1, 1)"
   ],
   "metadata": {
    "collapsed": false,
    "pycharm": {
     "name": "#%%\n"
    }
   }
  },
  {
   "cell_type": "code",
   "execution_count": null,
   "outputs": [],
   "source": [
    "\"\"\"Creation and compilation of custom model, adjusted to fashion Ionosphere dataset problem\"\"\"\n",
    "normalizer = keras.layers.Normalization()\n",
    "normalizer.adapt(X_train)\n",
    "model = keras.Sequential([\n",
    "    normalizer,\n",
    "    keras.layers.InputLayer(input_shape=(6,)),\n",
    "    keras.layers.Dense(1000, activation='relu'),\n",
    "    keras.layers.Dense(1000, activation='relu'),\n",
    "    keras.layers.Dense(len(beer_style)+1, activation='softmax')\n",
    "])\n",
    "\n",
    "model.compile(optimizer='adam',\n",
    "              loss='sparse_categorical_crossentropy',\n",
    "              metrics=['accuracy'])"
   ],
   "metadata": {
    "collapsed": false,
    "pycharm": {
     "name": "#%%\n",
     "is_executing": true
    }
   }
  },
  {
   "cell_type": "code",
   "execution_count": 6,
   "outputs": [
    {
     "name": "stdout",
     "output_type": "stream",
     "text": [
      "Epoch 1/100\n"
     ]
    },
    {
     "name": "stderr",
     "output_type": "stream",
     "text": [
      "2022-12-17 00:04:47.292357: I tensorflow/compiler/xla/service/service.cc:173] XLA service 0x5617e78e3370 initialized for platform CUDA (this does not guarantee that XLA will be used). Devices:\n",
      "2022-12-17 00:04:47.292381: I tensorflow/compiler/xla/service/service.cc:181]   StreamExecutor device (0): NVIDIA GeForce RTX 2070, Compute Capability 7.5\n",
      "2022-12-17 00:04:47.296025: I tensorflow/compiler/mlir/tensorflow/utils/dump_mlir_util.cc:268] disabling MLIR crash reproducer, set env var `MLIR_CRASH_REPRODUCER_DIRECTORY` to enable.\n",
      "2022-12-17 00:04:47.374576: I tensorflow/tsl/platform/default/subprocess.cc:304] Start cannot spawn child process: No such file or directory\n",
      "2022-12-17 00:04:47.419718: I tensorflow/compiler/jit/xla_compilation_cache.cc:477] Compiled cluster using XLA!  This line is logged at most once for the lifetime of the process.\n"
     ]
    },
    {
     "name": "stdout",
     "output_type": "stream",
     "text": [
      "296/296 [==============================] - 3s 4ms/step - loss: 2.6167 - accuracy: 0.3663\n",
      "Epoch 2/100\n",
      "296/296 [==============================] - 1s 4ms/step - loss: 2.1780 - accuracy: 0.4319\n",
      "Epoch 3/100\n",
      "296/296 [==============================] - 1s 4ms/step - loss: 2.0346 - accuracy: 0.4596\n",
      "Epoch 4/100\n",
      "296/296 [==============================] - 1s 4ms/step - loss: 1.9448 - accuracy: 0.4744\n",
      "Epoch 5/100\n",
      "296/296 [==============================] - 1s 4ms/step - loss: 1.8843 - accuracy: 0.4867\n",
      "Epoch 6/100\n",
      "296/296 [==============================] - 1s 4ms/step - loss: 1.8154 - accuracy: 0.5037\n",
      "Epoch 7/100\n",
      "296/296 [==============================] - 1s 3ms/step - loss: 1.7565 - accuracy: 0.5135\n",
      "Epoch 8/100\n",
      "296/296 [==============================] - 1s 3ms/step - loss: 1.7142 - accuracy: 0.5192\n",
      "Epoch 9/100\n",
      "296/296 [==============================] - 1s 3ms/step - loss: 1.6572 - accuracy: 0.5315\n",
      "Epoch 10/100\n",
      "296/296 [==============================] - 1s 4ms/step - loss: 1.6146 - accuracy: 0.5380\n",
      "Epoch 11/100\n",
      "296/296 [==============================] - 1s 4ms/step - loss: 1.5700 - accuracy: 0.5564\n",
      "Epoch 12/100\n",
      "296/296 [==============================] - 1s 4ms/step - loss: 1.5346 - accuracy: 0.5680\n",
      "Epoch 13/100\n",
      "296/296 [==============================] - 1s 4ms/step - loss: 1.4998 - accuracy: 0.5755\n",
      "Epoch 14/100\n",
      "296/296 [==============================] - 1s 4ms/step - loss: 1.4629 - accuracy: 0.5806\n",
      "Epoch 15/100\n",
      "296/296 [==============================] - 1s 4ms/step - loss: 1.4338 - accuracy: 0.5832\n",
      "Epoch 16/100\n",
      "296/296 [==============================] - 1s 4ms/step - loss: 1.4184 - accuracy: 0.5923\n",
      "Epoch 17/100\n",
      "296/296 [==============================] - 1s 4ms/step - loss: 1.3764 - accuracy: 0.6062\n",
      "Epoch 18/100\n",
      "296/296 [==============================] - 1s 3ms/step - loss: 1.3481 - accuracy: 0.6054\n",
      "Epoch 19/100\n",
      "296/296 [==============================] - 1s 3ms/step - loss: 1.3239 - accuracy: 0.6115\n",
      "Epoch 20/100\n",
      "296/296 [==============================] - 1s 4ms/step - loss: 1.2913 - accuracy: 0.6238\n",
      "Epoch 21/100\n",
      "296/296 [==============================] - 1s 4ms/step - loss: 1.2750 - accuracy: 0.6204\n",
      "Epoch 22/100\n",
      "296/296 [==============================] - 1s 4ms/step - loss: 1.2335 - accuracy: 0.6330\n",
      "Epoch 23/100\n",
      "296/296 [==============================] - 1s 4ms/step - loss: 1.2050 - accuracy: 0.6373\n",
      "Epoch 24/100\n",
      "296/296 [==============================] - 1s 3ms/step - loss: 1.1911 - accuracy: 0.6409\n",
      "Epoch 25/100\n",
      "296/296 [==============================] - 1s 4ms/step - loss: 1.1563 - accuracy: 0.6521\n",
      "Epoch 26/100\n",
      "296/296 [==============================] - 1s 4ms/step - loss: 1.1402 - accuracy: 0.6531\n",
      "Epoch 27/100\n",
      "296/296 [==============================] - 1s 3ms/step - loss: 1.1152 - accuracy: 0.6612\n",
      "Epoch 28/100\n",
      "296/296 [==============================] - 1s 4ms/step - loss: 1.0772 - accuracy: 0.6688\n",
      "Epoch 29/100\n",
      "296/296 [==============================] - 1s 4ms/step - loss: 1.0604 - accuracy: 0.6739\n",
      "Epoch 30/100\n",
      "296/296 [==============================] - 1s 3ms/step - loss: 1.0403 - accuracy: 0.6809\n",
      "Epoch 31/100\n",
      "296/296 [==============================] - 1s 4ms/step - loss: 1.0221 - accuracy: 0.6843\n",
      "Epoch 32/100\n",
      "296/296 [==============================] - 1s 4ms/step - loss: 1.0193 - accuracy: 0.6825\n",
      "Epoch 33/100\n",
      "296/296 [==============================] - 1s 4ms/step - loss: 0.9782 - accuracy: 0.6947\n",
      "Epoch 34/100\n",
      "296/296 [==============================] - 1s 3ms/step - loss: 0.9566 - accuracy: 0.7015\n",
      "Epoch 35/100\n",
      "296/296 [==============================] - 1s 3ms/step - loss: 0.9403 - accuracy: 0.7090\n",
      "Epoch 36/100\n",
      "296/296 [==============================] - 1s 4ms/step - loss: 0.9262 - accuracy: 0.7084\n",
      "Epoch 37/100\n",
      "296/296 [==============================] - 1s 4ms/step - loss: 0.9090 - accuracy: 0.7126\n",
      "Epoch 38/100\n",
      "296/296 [==============================] - 1s 4ms/step - loss: 0.8858 - accuracy: 0.7199\n",
      "Epoch 39/100\n",
      "296/296 [==============================] - 1s 4ms/step - loss: 0.8901 - accuracy: 0.7211\n",
      "Epoch 40/100\n",
      "296/296 [==============================] - 1s 4ms/step - loss: 0.8498 - accuracy: 0.7337\n",
      "Epoch 41/100\n",
      "296/296 [==============================] - 1s 4ms/step - loss: 0.8406 - accuracy: 0.7329\n",
      "Epoch 42/100\n",
      "296/296 [==============================] - 1s 4ms/step - loss: 0.8277 - accuracy: 0.7309\n",
      "Epoch 43/100\n",
      "296/296 [==============================] - 1s 3ms/step - loss: 0.8311 - accuracy: 0.7348\n",
      "Epoch 44/100\n",
      "296/296 [==============================] - 1s 4ms/step - loss: 0.7992 - accuracy: 0.7412\n",
      "Epoch 45/100\n",
      "296/296 [==============================] - 1s 4ms/step - loss: 0.7910 - accuracy: 0.7451\n",
      "Epoch 46/100\n",
      "296/296 [==============================] - 1s 4ms/step - loss: 0.7622 - accuracy: 0.7545\n",
      "Epoch 47/100\n",
      "296/296 [==============================] - 1s 4ms/step - loss: 0.7648 - accuracy: 0.7499\n",
      "Epoch 48/100\n",
      "296/296 [==============================] - 1s 3ms/step - loss: 0.7515 - accuracy: 0.7555\n",
      "Epoch 49/100\n",
      "296/296 [==============================] - 1s 4ms/step - loss: 0.7241 - accuracy: 0.7646\n",
      "Epoch 50/100\n",
      "296/296 [==============================] - 1s 3ms/step - loss: 0.7220 - accuracy: 0.7582\n",
      "Epoch 51/100\n",
      "296/296 [==============================] - 1s 4ms/step - loss: 0.7243 - accuracy: 0.7602\n",
      "Epoch 52/100\n",
      "296/296 [==============================] - 1s 3ms/step - loss: 0.7067 - accuracy: 0.7670\n",
      "Epoch 53/100\n",
      "296/296 [==============================] - 1s 3ms/step - loss: 0.6933 - accuracy: 0.7693\n",
      "Epoch 54/100\n",
      "296/296 [==============================] - 1s 4ms/step - loss: 0.6906 - accuracy: 0.7685\n",
      "Epoch 55/100\n",
      "296/296 [==============================] - 1s 4ms/step - loss: 0.6795 - accuracy: 0.7691\n",
      "Epoch 56/100\n",
      "296/296 [==============================] - 1s 4ms/step - loss: 0.6812 - accuracy: 0.7748\n",
      "Epoch 57/100\n",
      "296/296 [==============================] - 1s 4ms/step - loss: 0.6689 - accuracy: 0.7801\n",
      "Epoch 58/100\n",
      "296/296 [==============================] - 1s 4ms/step - loss: 0.6440 - accuracy: 0.7877\n",
      "Epoch 59/100\n",
      "296/296 [==============================] - 1s 4ms/step - loss: 0.6615 - accuracy: 0.7796\n",
      "Epoch 60/100\n",
      "296/296 [==============================] - 1s 4ms/step - loss: 0.6414 - accuracy: 0.7880\n",
      "Epoch 61/100\n",
      "296/296 [==============================] - 1s 4ms/step - loss: 0.6215 - accuracy: 0.7894\n",
      "Epoch 62/100\n",
      "296/296 [==============================] - 1s 4ms/step - loss: 0.6240 - accuracy: 0.7911\n",
      "Epoch 63/100\n",
      "296/296 [==============================] - 1s 4ms/step - loss: 0.6072 - accuracy: 0.7899\n",
      "Epoch 64/100\n",
      "296/296 [==============================] - 1s 3ms/step - loss: 0.6039 - accuracy: 0.7961\n",
      "Epoch 65/100\n",
      "296/296 [==============================] - 1s 3ms/step - loss: 0.6070 - accuracy: 0.7948\n",
      "Epoch 66/100\n",
      "296/296 [==============================] - 1s 4ms/step - loss: 0.6065 - accuracy: 0.7953\n",
      "Epoch 67/100\n",
      "296/296 [==============================] - 1s 4ms/step - loss: 0.6021 - accuracy: 0.7916\n",
      "Epoch 68/100\n",
      "296/296 [==============================] - 1s 4ms/step - loss: 0.5883 - accuracy: 0.8008\n",
      "Epoch 69/100\n",
      "296/296 [==============================] - 1s 4ms/step - loss: 0.5748 - accuracy: 0.8036\n",
      "Epoch 70/100\n",
      "296/296 [==============================] - 1s 4ms/step - loss: 0.5728 - accuracy: 0.8030\n",
      "Epoch 71/100\n",
      "296/296 [==============================] - 1s 4ms/step - loss: 0.5792 - accuracy: 0.8054\n",
      "Epoch 72/100\n",
      "296/296 [==============================] - 1s 3ms/step - loss: 0.5866 - accuracy: 0.7996\n",
      "Epoch 73/100\n",
      "296/296 [==============================] - 1s 4ms/step - loss: 0.5438 - accuracy: 0.8097\n",
      "Epoch 74/100\n",
      "296/296 [==============================] - 1s 4ms/step - loss: 0.5408 - accuracy: 0.8132\n",
      "Epoch 75/100\n",
      "296/296 [==============================] - 1s 4ms/step - loss: 0.5587 - accuracy: 0.8082\n",
      "Epoch 76/100\n",
      "296/296 [==============================] - 1s 3ms/step - loss: 0.5288 - accuracy: 0.8138\n",
      "Epoch 77/100\n",
      "296/296 [==============================] - 1s 3ms/step - loss: 0.5404 - accuracy: 0.8128\n",
      "Epoch 78/100\n",
      "296/296 [==============================] - 1s 4ms/step - loss: 0.5478 - accuracy: 0.8065\n",
      "Epoch 79/100\n",
      "296/296 [==============================] - 1s 4ms/step - loss: 0.5374 - accuracy: 0.8140\n",
      "Epoch 80/100\n",
      "296/296 [==============================] - 1s 4ms/step - loss: 0.5274 - accuracy: 0.8133\n",
      "Epoch 81/100\n",
      "296/296 [==============================] - 1s 3ms/step - loss: 0.5213 - accuracy: 0.8185\n",
      "Epoch 82/100\n",
      "296/296 [==============================] - 1s 3ms/step - loss: 0.5056 - accuracy: 0.8215\n",
      "Epoch 83/100\n",
      "296/296 [==============================] - 1s 3ms/step - loss: 0.5187 - accuracy: 0.8168\n",
      "Epoch 84/100\n",
      "296/296 [==============================] - 1s 3ms/step - loss: 0.5335 - accuracy: 0.8143\n",
      "Epoch 85/100\n",
      "296/296 [==============================] - 1s 3ms/step - loss: 0.5315 - accuracy: 0.8156\n",
      "Epoch 86/100\n",
      "296/296 [==============================] - 1s 4ms/step - loss: 0.5089 - accuracy: 0.8197\n",
      "Epoch 87/100\n",
      "296/296 [==============================] - 1s 4ms/step - loss: 0.4894 - accuracy: 0.8295\n",
      "Epoch 88/100\n",
      "296/296 [==============================] - 1s 4ms/step - loss: 0.5015 - accuracy: 0.8239\n",
      "Epoch 89/100\n",
      "296/296 [==============================] - 1s 4ms/step - loss: 0.4893 - accuracy: 0.8276\n",
      "Epoch 90/100\n",
      "296/296 [==============================] - 1s 4ms/step - loss: 0.5263 - accuracy: 0.8138\n",
      "Epoch 91/100\n",
      "296/296 [==============================] - 1s 3ms/step - loss: 0.4896 - accuracy: 0.8251\n",
      "Epoch 92/100\n",
      "296/296 [==============================] - 1s 3ms/step - loss: 0.4773 - accuracy: 0.8294\n",
      "Epoch 93/100\n",
      "296/296 [==============================] - 1s 4ms/step - loss: 0.4872 - accuracy: 0.8256\n",
      "Epoch 94/100\n",
      "296/296 [==============================] - 1s 4ms/step - loss: 0.4883 - accuracy: 0.8260\n",
      "Epoch 95/100\n",
      "296/296 [==============================] - 1s 3ms/step - loss: 0.4747 - accuracy: 0.8273\n",
      "Epoch 96/100\n",
      "296/296 [==============================] - 1s 3ms/step - loss: 0.4661 - accuracy: 0.8330\n",
      "Epoch 97/100\n",
      "296/296 [==============================] - 1s 4ms/step - loss: 0.4593 - accuracy: 0.8353\n",
      "Epoch 98/100\n",
      "296/296 [==============================] - 1s 3ms/step - loss: 0.4796 - accuracy: 0.8281\n",
      "Epoch 99/100\n",
      "296/296 [==============================] - 1s 4ms/step - loss: 0.4753 - accuracy: 0.8312\n",
      "Epoch 100/100\n",
      "296/296 [==============================] - 1s 4ms/step - loss: 0.4695 - accuracy: 0.8320\n",
      "time:  111.12670874595642 s\n"
     ]
    }
   ],
   "source": [
    "\"\"\"Train model with base time benchmark\"\"\"\n",
    "start = time.time()\n",
    "history = model.fit(X_train, y_train, epochs=100)\n",
    "print(\"time: \", time.time()-start, \"s\")"
   ],
   "metadata": {
    "collapsed": false,
    "pycharm": {
     "name": "#%%\n"
    }
   }
  },
  {
   "cell_type": "code",
   "execution_count": 7,
   "outputs": [
    {
     "data": {
      "text/plain": "<Figure size 432x288 with 1 Axes>",
      "image/png": "[encoded data removed]"
     },
     "metadata": {
      "needs_background": "light"
     },
     "output_type": "display_data"
    },
    {
     "name": "stdout",
     "output_type": "stream",
     "text": [
      "296/296 - 1s - loss: 0.4191 - accuracy: 0.8544 - 567ms/epoch - 2ms/step\n",
      "\n",
      "Test accuracy: 0.854426383972168\n"
     ]
    }
   ],
   "source": [
    "import matplotlib.pyplot as plt\n",
    "\"\"\"Benchmark of accuracy, with dependency of epoch\"\"\"\n",
    "plt.plot(list(range(100)), history.history[\"accuracy\"], 'bo', label='Training acc')\n",
    "plt.title('Training and validation accuracy')\n",
    "plt.legend()\n",
    "plt.show()\n",
    "\n",
    "test_loss, test_acc = model.evaluate(X_test,  y_test, verbose=2)\n",
    "print('\\nTest accuracy:', test_acc)"
   ],
   "metadata": {
    "collapsed": false,
    "pycharm": {
     "name": "#%%\n"
    }
   }
  }
 ],
 "metadata": {
  "kernelspec": {
   "display_name": "Python 3",
   "language": "python",
   "name": "python3"
  },
  "language_info": {
   "codemirror_mode": {
    "name": "ipython",
    "version": 2
   },
   "file_extension": ".py",
   "mimetype": "text/x-python",
   "name": "python",
   "nbconvert_exporter": "python",
   "pygments_lexer": "ipython2",
   "version": "2.7.6"
  }
 },
 "nbformat": 4,
 "nbformat_minor": 0
}